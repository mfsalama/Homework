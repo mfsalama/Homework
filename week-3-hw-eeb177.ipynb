{
 "cells": [
  {
   "cell_type": "code",
   "execution_count": 1,
   "metadata": {
    "collapsed": false
   },
   "outputs": [
    {
     "name": "stdout",
     "output_type": "stream",
     "text": [
      "length: 54\n",
      "A count: 16\n",
      "T count: 21\n"
     ]
    }
   ],
   "source": [
    "#QUESTION 3:\n",
    "my_dna = \"ACTGATCGATTACGTATAGTATTTGCTATCATACATATATATCGATGCGTTCAT\"\n",
    "length = len(my_dna)\n",
    "a_count = my_dna.count('A')\n",
    "t_count = my_dna.count('T')\n",
    "print(\"length: \" + str(length))\n",
    "print(\"A count: \" + str(a_count))\n",
    "print(\"T count: \" + str(t_count))\n",
    "\n"
   ]
  },
  {
   "cell_type": "code",
   "execution_count": 3,
   "metadata": {
    "collapsed": false
   },
   "outputs": [
    {
     "name": "stdout",
     "output_type": "stream",
     "text": [
      "length: 4\n",
      "A count: 1\n",
      "T count: 1\n"
     ]
    }
   ],
   "source": [
    "test_dna = \"ATGC\"\n",
    "length = len(test_dna)\n",
    "a_count = test_dna.count('A')\n",
    "t_count = test_dna.count('T')\n",
    "print(\"length: \" + str(length))\n",
    "print(\"A count: \" + str(a_count))\n",
    "print(\"T count: \" + str(t_count))"
   ]
  },
  {
   "cell_type": "code",
   "execution_count": 4,
   "metadata": {
    "collapsed": false
   },
   "outputs": [
    {
     "name": "stdout",
     "output_type": "stream",
     "text": [
      "AT content is 1.25\n"
     ]
    }
   ],
   "source": [
    "test_dna = \"ATGC\"\n",
    "length = len(test_dna)\n",
    "a_count = test_dna.count('A')\n",
    "t_count = test_dna.count('T')\n",
    "at_content = a_count + t_count / length\n",
    "print(\"AT content is \" + str(at_content))"
   ]
  },
  {
   "cell_type": "code",
   "execution_count": 6,
   "metadata": {
    "collapsed": false
   },
   "outputs": [
    {
     "name": "stdout",
     "output_type": "stream",
     "text": [
      "AT content is 0.5\n"
     ]
    }
   ],
   "source": [
    "test_dna = \"ATGC\"\n",
    "length = len(test_dna)\n",
    "a_count = test_dna.count('A')\n",
    "t_count = test_dna.count('T')\n",
    "at_content = (a_count + t_count) / length\n",
    "print(\"AT content is \" + str(at_content))"
   ]
  },
  {
   "cell_type": "code",
   "execution_count": 7,
   "metadata": {
    "collapsed": false
   },
   "outputs": [
    {
     "name": "stdout",
     "output_type": "stream",
     "text": [
      "AT content is 0.6851851851851852\n"
     ]
    }
   ],
   "source": [
    "my_dna = \"ACTGATCGATTACGTATAGTATTTGCTATCATACATATATATCGATGCGTTCAT\"\n",
    "length = len(my_dna)\n",
    "a_count = my_dna.count('A')\n",
    "t_count = my_dna.count('T')\n",
    "at_content = (a_count + t_count) / length\n",
    "print(\"AT content is \" + str(at_content))"
   ]
  },
  {
   "cell_type": "code",
   "execution_count": null,
   "metadata": {
    "collapsed": true
   },
   "outputs": [],
   "source": []
  },
  {
   "cell_type": "code",
   "execution_count": 8,
   "metadata": {
    "collapsed": false
   },
   "outputs": [
    {
     "name": "stdout",
     "output_type": "stream",
     "text": [
      "Hopper Grace\n"
     ]
    }
   ],
   "source": [
    "#QUESTION 4:\n",
    "\n",
    "#1)check your understanding:done\n",
    "#2)sorting out referances:\n",
    "first, second = 'Grace', 'Hopper'\n",
    "third, fourth = second, first\n",
    "print(third, fourth)"
   ]
  },
  {
   "cell_type": "code",
   "execution_count": 14,
   "metadata": {
    "collapsed": false
   },
   "outputs": [
    {
     "name": "stdout",
     "output_type": "stream",
     "text": [
      "first three characters: oxy\n",
      "last three characters: gen\n"
     ]
    }
   ],
   "source": [
    "#3)slicing strings:\n",
    "element = 'oxygen'\n",
    "print('first three characters:', element[0:3])\n",
    "print('last three characters:', element[3:6])"
   ]
  },
  {
   "cell_type": "code",
   "execution_count": 22,
   "metadata": {
    "collapsed": false
   },
   "outputs": [
    {
     "name": "stdout",
     "output_type": "stream",
     "text": [
      "first three characters: oxyg\n",
      "first three characters: \n"
     ]
    }
   ],
   "source": [
    "element = 'oxygen'\n",
    "print('first three characters:', element[0:4])\n",
    "print('first three characters:', element[4:0])"
   ]
  },
  {
   "cell_type": "code",
   "execution_count": null,
   "metadata": {
    "collapsed": true
   },
   "outputs": [],
   "source": []
  }
 ],
 "metadata": {
  "anaconda-cloud": {},
  "kernelspec": {
   "display_name": "Python [default]",
   "language": "python",
   "name": "python3"
  },
  "language_info": {
   "codemirror_mode": {
    "name": "ipython",
    "version": 3
   },
   "file_extension": ".py",
   "mimetype": "text/x-python",
   "name": "python",
   "nbconvert_exporter": "python",
   "pygments_lexer": "ipython3",
   "version": "3.5.2"
  }
 },
 "nbformat": 4,
 "nbformat_minor": 2
}
