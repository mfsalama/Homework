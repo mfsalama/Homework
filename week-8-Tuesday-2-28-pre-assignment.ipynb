{
 "cells": [
  {
   "cell_type": "markdown",
   "metadata": {},
   "source": [
    "# Challenge 1:\n",
    "\n",
    "* R variables:\n",
    "\n",
    "min_height\n",
    "max.height\n",
    "MaxLength\n",
    "celsius2kelvin\n",
    "\n",
    "* Hidden variable:\n",
    "\n",
    ".mass\n",
    "\n",
    "* A variable:\n",
    "\n",
    "_age\n",
    "min-length\n",
    "2widths"
   ]
  },
  {
   "cell_type": "markdown",
   "metadata": {},
   "source": [
    "# Challenge 2:\n",
    "\n",
    "mass <- 47.5\n",
    "\n",
    "This will give a value of 47.5 for the variable mass\n",
    "\n",
    "age <- 122\n",
    "\n",
    "This will give a value of 122 for the variable age\n",
    "\n",
    "mass <- mass * 2.3\n",
    "\n",
    "This will multiply the existing value of 47.5 by 2.3 to give a new value of 109.25 to the variable mass.\n",
    "\n",
    "age <- age - 20\n",
    "\n",
    "This will subtract 20 from the existing value of 122 to give a new value of 102 to the variable age."
   ]
  },
  {
   "cell_type": "markdown",
   "metadata": {},
   "source": [
    "# Challenge 3:\n",
    "\n",
    "mass > age\n",
    "\n",
    "[1] TRUE\n",
    "\n",
    "* This should yield a boolean value of TRUE since 109.25 is greater than 102."
   ]
  },
  {
   "cell_type": "markdown",
   "metadata": {},
   "source": [
    "# Challenge 4:\n",
    "\n",
    "rm(age, mass)"
   ]
  },
  {
   "cell_type": "markdown",
   "metadata": {},
   "source": [
    "# Challenge 5:\n",
    "\n",
    "install.packages(\"ggplot2\")\n",
    "\n",
    "install.packages(\"plyr\")\n",
    "\n",
    "install.packages(\"gapminder\")"
   ]
  },
  {
   "cell_type": "code",
   "execution_count": null,
   "metadata": {
    "collapsed": true
   },
   "outputs": [],
   "source": []
  }
 ],
 "metadata": {
  "anaconda-cloud": {},
  "kernelspec": {
   "display_name": "Python [default]",
   "language": "python",
   "name": "python3"
  },
  "language_info": {
   "codemirror_mode": {
    "name": "ipython",
    "version": 3
   },
   "file_extension": ".py",
   "mimetype": "text/x-python",
   "name": "python",
   "nbconvert_exporter": "python",
   "pygments_lexer": "ipython3",
   "version": "3.5.2"
  }
 },
 "nbformat": 4,
 "nbformat_minor": 2
}
