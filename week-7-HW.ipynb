{
 "cells": [
  {
   "cell_type": "markdown",
   "metadata": {},
   "source": [
    "# Homework\n",
    "\n",
    "* Using any or all of the above methods, generate a Markdown or LaTeX report of either (a) some of your favorite fish species, or (b) a genus or family of related fish. The report should contain at least 2 pieces of data about the fish, not including its scientific name."
   ]
  },
  {
   "cell_type": "markdown",
   "metadata": {},
   "source": [
    "* Chosen fish: Salmon !"
   ]
  },
  {
   "cell_type": "markdown",
   "metadata": {},
   "source": [
    "# Codes used to find certain data on my favorite fish:\n",
    "\n",
    "```\n",
    "curl -s 'http://fishbase.us/summary/SpeciesSummary.php?ID=240&AT=salmon' | grep Etymology\n",
    "```\n",
    "\n",
    "```\n",
    "curl -s 'http://fishbase.us/summary/SpeciesSummary.php?ID=240&AT=salmon' | grep Max length\n",
    "```"
   ]
  },
  {
   "cell_type": "markdown",
   "metadata": {},
   "source": [
    "# My favorite fish: Salmon (Oncorhynchus gorbuscha) ! \n",
    "\n",
    "Etymology: Oncorhynchus\n",
    "\n",
    "Max length : 76.0 cm"
   ]
  },
  {
   "cell_type": "code",
   "execution_count": 4,
   "metadata": {
    "collapsed": true
   },
   "outputs": [],
   "source": []
  }
 ],
 "metadata": {
  "anaconda-cloud": {},
  "kernelspec": {
   "display_name": "Python [default]",
   "language": "python",
   "name": "python3"
  },
  "language_info": {
   "codemirror_mode": {
    "name": "ipython",
    "version": 3
   },
   "file_extension": ".py",
   "mimetype": "text/x-python",
   "name": "python",
   "nbconvert_exporter": "python",
   "pygments_lexer": "ipython3",
   "version": "3.5.2"
  }
 },
 "nbformat": 4,
 "nbformat_minor": 2
}
